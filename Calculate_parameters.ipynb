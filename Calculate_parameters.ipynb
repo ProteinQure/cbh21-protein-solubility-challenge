{
 "cells": [
  {
   "cell_type": "code",
   "execution_count": 30,
   "metadata": {},
   "outputs": [],
   "source": [
    "import Bio.PDB as PDB \n",
    "import numpy as np \n",
    "import freesasa\n",
    "import glob\n",
    "from Bio.PDB.DSSP import DSSP "
   ]
  },
  {
   "cell_type": "markdown",
   "metadata": {},
   "source": [
    "# Calculate parameters"
   ]
  },
  {
   "cell_type": "code",
   "execution_count": 2,
   "metadata": {},
   "outputs": [],
   "source": [
    "surfaces = []\n",
    "rsas = []\n",
    "surface_seq = []\n",
    "\n",
    "for file in glob.glob(\"data/training/crystal_structs/*.pdb\"): \n",
    "    \n",
    "    # parse the pdb file\n",
    "    p = PDB.PDBParser(QUIET=True)\n",
    "    s = p.get_structure(file, file) \n",
    "    \n",
    "    # get the surface area\n",
    "    structure = freesasa.Structure(file)\n",
    "    result = freesasa.calc(structure)\n",
    "    area_classes = freesasa.classifyResults(result, structure)\n",
    "    \n",
    "    # save this into numpy sheet result.totalArea() \n",
    "    surface = result.totalArea()\n",
    "    surfaces.append(surface)\n",
    "    \n",
    "    # get the sequence length\n",
    "    seq = 0\n",
    "    for chain in s.get_chains():\n",
    "        seq += len([_ for _ in chain.get_residues() if PDB.is_aa(_)])\n",
    "    \n",
    "    # save into numpy sheet rsa\n",
    "    rsas.append(seq)\n",
    "    \n",
    "    # caculate the surface/sequence \n",
    "    surface_seq.append(surface/seq)"
   ]
  },
  {
   "cell_type": "markdown",
   "metadata": {},
   "source": [
    "## Exracting secondary structure \n",
    "\n",
    "We distinguished between the a, b and\n",
    "c residues that are buried in the protein core (solvent accessibility\n",
    "\u0002 20%), moderately buried (between 20% and 50%), and solvent\n",
    "exposed (\u0004 50%)."
   ]
  },
  {
   "cell_type": "code",
   "execution_count": 52,
   "metadata": {},
   "outputs": [
    {
     "name": "stdout",
     "output_type": "stream",
     "text": [
      "0.37037037037037035\n",
      "0.2571428571428571\n",
      "0.4\n"
     ]
    }
   ],
   "source": [
    "p = PDB.PDBParser()\n",
    "structure = p.get_structure(file, \"data/training/crystal_structs/A0A140NA.pdb\")\n",
    "    \n",
    "model = structure[0]\n",
    "dssp = DSSP(model, \"data/training/crystal_structs/A0A140NA.pdb\")\n",
    "\n",
    "# DSSP data is accessed by a tuple (chain_id, res_id)\n",
    "a_key = list(dssp.keys())[2]\n",
    "\n",
    "all_residues = list(dssp.keys())\n",
    "\n",
    "dssp_info = [dssp[i] for i in all_residues] \n",
    "\n",
    "\n",
    "asa = [dssp[i][3] for i in all_residues]\n",
    "\n",
    "burried = [0 if i <= 0.2 else 2 if i >= 0.5 else 1 for i in asa]\n",
    "\n",
    "secondary_q8 = [dssp[i][2] for i in all_residues]\n",
    "\n",
    "# helix = H, G, I\n",
    "# beta = B, E \n",
    "# loop = rest \n",
    "# 0 is alpha, 1 is beta, 2 is coil\n",
    "secondary_q3 = [0 if i in ['H', 'G', 'I'] else 1 if i in ['B', 'E'] else 2 for i in secondary_q8]\n",
    "\n",
    "count_helices = secondary_q3.count(0)\n",
    "count_sheets = secondary_q3.count(1)\n",
    "\n",
    "# calculate fraction of buried beta residues \n",
    "# total amount residues \n",
    "# list of moderatly and \n",
    "\n",
    "# calculate fraction of moderately buried beta residues\n",
    "mod_beta = 0\n",
    "\n",
    "for i in range(len(burried)): \n",
    "    if burried[i] == 1 and secondary_q3[i] == 1:\n",
    "        mod_beta += 1\n",
    "    \n",
    "frac_mod_beta = mod_beta / count_sheets\n",
    "\n",
    "print(frac_mod_beta)\n",
    "\n",
    "# calc fraction of moderately buried alfa residues\n",
    "mod_alfa = 0\n",
    "\n",
    "for i in range(len(burried)): \n",
    "    if burried[i] == 1 and secondary_q3[i] == 0:\n",
    "        mod_alfa += 1\n",
    "    \n",
    "frac_mod_alfa = mod_alfa / count_helices\n",
    "\n",
    "print(frac_mod_alfa)\n",
    "\n",
    "\n",
    "# calc fraction of exposed a residues\n",
    "exp_alfa = 0\n",
    "\n",
    "for i in range(len(burried)): \n",
    "    if burried[i] == 2 and secondary_q3[i] == 0:\n",
    "        exp_alfa += 1\n",
    "    \n",
    "frac_exp_alfa = exp_alfa / count_helices\n",
    "\n",
    "print(frac_exp_alfa)\n",
    "\n",
    "# calc fraction of each of the 20 amino acid types \n",
    "\n",
    "\n",
    "# calc fraction of K minus fraction of R\n",
    "\n",
    "\n",
    "# fraction of negatively charged residues\n",
    "\n",
    "# fraction of charged residues\n",
    "\n",
    "# fraction of positively minus negatively charged residues\n",
    "\n"
   ]
  },
  {
   "cell_type": "code",
   "execution_count": null,
   "metadata": {},
   "outputs": [],
   "source": [
    "for file in glob.glob(\"data/training/crystal_structs/*.pdb\"): \n",
    "    \n",
    "    p = PDB.PDBParser()\n",
    "    structure = p.get_structure(file, file)\n",
    "    print(structure)\n",
    "    \n",
    "    model = structure[0]\n",
    "    dssp = DSSP(model, file)\n",
    "    # DSSP data is accessed by a tuple (chain_id, res_id)\n",
    "    \n",
    "    a_key = list(dssp.keys())[2]\n",
    "    \n",
    "    print(dssp[a_key])"
   ]
  },
  {
   "cell_type": "markdown",
   "metadata": {},
   "source": [
    "## Saving file "
   ]
  },
  {
   "cell_type": "code",
   "execution_count": null,
   "metadata": {},
   "outputs": [],
   "source": [
    "a = np.array(surfaces)\n",
    "b = np.array(rsas)\n",
    "c = np.array(surface_seq)\n",
    "\n",
    "arr = np.column_stack((a, b, c))\n",
    "np.savetxt(\"parameters.csv\", arr, delimiter=\",\")"
   ]
  },
  {
   "cell_type": "code",
   "execution_count": null,
   "metadata": {},
   "outputs": [],
   "source": []
  }
 ],
 "metadata": {
  "kernelspec": {
   "display_name": "Python 3",
   "language": "python",
   "name": "python3"
  },
  "language_info": {
   "codemirror_mode": {
    "name": "ipython",
    "version": 3
   },
   "file_extension": ".py",
   "mimetype": "text/x-python",
   "name": "python",
   "nbconvert_exporter": "python",
   "pygments_lexer": "ipython3",
   "version": "3.8.3"
  },
  "latex_envs": {
   "LaTeX_envs_menu_present": true,
   "autoclose": false,
   "autocomplete": true,
   "bibliofile": "biblio.bib",
   "cite_by": "apalike",
   "current_citInitial": 1,
   "eqLabelWithNumbers": true,
   "eqNumInitial": 1,
   "hotkeys": {
    "equation": "Ctrl-E",
    "itemize": "Ctrl-I"
   },
   "labels_anchors": false,
   "latex_user_defs": false,
   "report_style_numbering": false,
   "user_envs_cfg": false
  },
  "toc": {
   "base_numbering": 1,
   "nav_menu": {},
   "number_sections": true,
   "sideBar": true,
   "skip_h1_title": false,
   "title_cell": "Table of Contents",
   "title_sidebar": "Contents",
   "toc_cell": false,
   "toc_position": {},
   "toc_section_display": true,
   "toc_window_display": false
  }
 },
 "nbformat": 4,
 "nbformat_minor": 4
}
