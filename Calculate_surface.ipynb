{
 "cells": [
  {
   "cell_type": "code",
   "execution_count": 7,
   "metadata": {},
   "outputs": [],
   "source": [
    "import Bio.PDB as PDB \n",
    "import numpy as np \n",
    "import freesasa\n",
    "import glob"
   ]
  },
  {
   "cell_type": "markdown",
   "metadata": {},
   "source": [
    "# Calculate surface area "
   ]
  },
  {
   "cell_type": "code",
   "execution_count": 11,
   "metadata": {},
   "outputs": [],
   "source": [
    "amount_str = len(glob.glob(\"data/training/crystal_structs/*.pdb\")) \n",
    "features_array = np.zeros((amount_str, 3))"
   ]
  },
  {
   "cell_type": "code",
   "execution_count": 10,
   "metadata": {},
   "outputs": [],
   "source": [
    "surfaces = []\n",
    "rsas = []\n",
    "\n",
    "for file in glob.glob(\"data/training/crystal_structs/*.pdb\"): \n",
    "    \n",
    "    p = PDB.PDBParser(QUIET=True)\n",
    "    s = p.get_structure(file, file) \n",
    "    \n",
    "    structure = freesasa.Structure(file)\n",
    "    result = freesasa.calc(structure)\n",
    "    area_classes = freesasa.classifyResults(result, structure)\n",
    "    \n",
    "    # save this into numpy sheet result.totalArea() \n",
    "    surfaces.append(result.totalArea())\n",
    "    \n",
    "    rsa = 0\n",
    "    for chain in s.get_chains():\n",
    "        rsa += len([_ for _ in chain.get_residues() if PDB.is_aa(_)])\n",
    "    \n",
    "    # save into numpy sheet rsa\n",
    "    rsas.append(rsa)"
   ]
  },
  {
   "cell_type": "code",
   "execution_count": null,
   "metadata": {},
   "outputs": [],
   "source": [
    "surfaces"
   ]
  },
  {
   "cell_type": "code",
   "execution_count": null,
   "metadata": {},
   "outputs": [],
   "source": [
    "rsas"
   ]
  }
 ],
 "metadata": {
  "kernelspec": {
   "display_name": "Python 3",
   "language": "python",
   "name": "python3"
  },
  "language_info": {
   "codemirror_mode": {
    "name": "ipython",
    "version": 3
   },
   "file_extension": ".py",
   "mimetype": "text/x-python",
   "name": "python",
   "nbconvert_exporter": "python",
   "pygments_lexer": "ipython3",
   "version": "3.8.3"
  },
  "latex_envs": {
   "LaTeX_envs_menu_present": true,
   "autoclose": false,
   "autocomplete": true,
   "bibliofile": "biblio.bib",
   "cite_by": "apalike",
   "current_citInitial": 1,
   "eqLabelWithNumbers": true,
   "eqNumInitial": 1,
   "hotkeys": {
    "equation": "Ctrl-E",
    "itemize": "Ctrl-I"
   },
   "labels_anchors": false,
   "latex_user_defs": false,
   "report_style_numbering": false,
   "user_envs_cfg": false
  },
  "toc": {
   "base_numbering": 1,
   "nav_menu": {},
   "number_sections": true,
   "sideBar": true,
   "skip_h1_title": false,
   "title_cell": "Table of Contents",
   "title_sidebar": "Contents",
   "toc_cell": false,
   "toc_position": {},
   "toc_section_display": true,
   "toc_window_display": false
  }
 },
 "nbformat": 4,
 "nbformat_minor": 4
}
